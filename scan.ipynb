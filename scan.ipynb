{
 "cells": [
  {
   "cell_type": "code",
   "execution_count": 32,
   "id": "a540aa66",
   "metadata": {},
   "outputs": [],
   "source": [
    "import pytesseract\n",
    "import PIL.Image\n",
    "import cv2\n",
    "import pandas as pd\n"
   ]
  },
  {
   "cell_type": "code",
   "execution_count": 33,
   "id": "1937ceff",
   "metadata": {},
   "outputs": [],
   "source": [
    "myconfig=r\"--psm 6 --oem 3\""
   ]
  },
  {
   "cell_type": "code",
   "execution_count": 34,
   "id": "0a515dfa",
   "metadata": {},
   "outputs": [],
   "source": [
    "img=cv2.imread(\"pdf/page1769.jpg\")\n",
    "ht,wdth,_=img.shape"
   ]
  },
  {
   "cell_type": "code",
   "execution_count": 35,
   "id": "ff778a23",
   "metadata": {},
   "outputs": [],
   "source": [
    "from bs4 import BeautifulSoup"
   ]
  },
  {
   "cell_type": "code",
   "execution_count": 40,
   "id": "ca17240b",
   "metadata": {},
   "outputs": [
    {
     "data": {
      "text/plain": [
       "\"Assembly Constituency No and Name: 170-Nagari Part number : 226\\n\\nSection No and Name : 1-MALLAREDDY KANDRIGA\\n\\nL FPH2585677 UUA0091025 UUA0780859\\n\\nName: P YUGANDHAR Name: B PRABHU Name - GANGADHAR PASAM\\n\\nFather's Name: P SUBRAMANYAM Father's Name : B MUNASWAMY Mother's Name : SUBBALAKSHMI P\\n\\nHouse Number : 4-35 REDDY House Number : 1/20\\n\\nAge: 42 Gender: MALE Photo is House Number = 1/11 Photo is Age: 27 Gender: MALE Photo is\\nAvailable Age: 40 Gender: MALE Available Available\\n\\n[4 uuao7sose7 ||| uuaogge4os {|__| UUA0996413\\n\\nName : DILIP RAJALA Name: MUNEMMA B Name: LAKSHMIB\\n\\nMother's Name : GOVINDA REDDY R Husband's Name : SUBRAMANYAM B Husband's Name : MUNASWAMI B\\n\\nHouse Number: 1/24 House Number: 1-1 House Number : 1-1\\n\\nAge: 28 Gender: MALE Photo is Age: 45 Gender: FEMALE Photo is Age: 48 Gender: FEMALE Photo is\\nAvailable Available Available\\n\\nuuai161744 {Le uuaogso748 {LI UUA0980755\\n\\nName : V MUNEIAH Name: V DINESH VENNAPOOSA Name : ROJESH VENNAPOOSA\\n\\nFather's Name : V MUNASWAMY Father's Name : V SUBRAMANYAM Father's Name : SUBRAMANYAM\\n\\nHouse Number: 1-1 VENNAPOOSA VENNAPOOSA\\n\\nAge: 22 Gender: MALE Photo is House Number: 1-4 Photo is House Number: 1-4 Photo is\\nAvailable Age: 24 Gender: MALE Available Age: 25 Gender: MALE Available\\n\\nUUA1003425 UUA0434506 UUA1924091\\n\\nName : LOKESH VENNAPOOSA Name: K KARUNA Name: K Subramanyam\\n\\nFather's Name : SUBRAMANYAM Mother's Name : K SUBRAMANYAM. Father's Name : CHENG Reddy\\n\\nVENNAPOOSA House Number : 1-7A House Number : 1-7A\\n\\nHouse Number: 1-4 Photo is Age: 30 Gender: MALE Photo is Age: 54 Gender: MALE Photo is\\n\\nAge: 27 Gender: MALE Available Available Available\\n\\nuuaig24109 |[_ 4] uuatg24117 |L__45] UUA0089573\\n\\nName: K Bangaramma Name: VENKATAREDDI Name: GIRI BAABU\\n\\nHusband's Name : SUBRAMANYAM Father's Name : CHENCHU Reddy Father's Name : GOVIND Reddy\\n\\nHouse Number: 1-7A House Number : 1-8 House Number : 1-9\\n\\nAge: 58 Gender: FEMALE Photo is Age: 70 Gender: MALE Photo is Age: 35 Gender: MALE Photo is\\nAvailable Available Available\\n\\n|___ a8 UUA1924125 FPH2585552 UUA0401224\\n\\nName: B Govindareddy Name: B.GOWARDAN Name : SHARADHA\\n\\nFather's Name : RAGHAV Reddy Father's Name : GOVINDA Reddy Husband's Name : GOVARDHAN\\n\\nHouse Number : 1-9 - House Number: 1-9-1 - House Number: 1-9-1\\n\\nAge: 75 Gender: MALE Photois || Age: 40 Gender: MALE Photois || Age: 37 Gender: FEMALE Photo is\\nAvailable Available Available\\n\\nuuao4so2e2 |[___20] UUA0478818 UUA1924133\\n\\nName: VENU Name: B Dhanamma Name : MUNASWAMIREDDY\\n\\nFather's Name : B MUNUSWAMI Husband's Name : PRABHU Father's Name : BODIREDDY\\n\\nREDDY : House Number: 1-11 ; House Number: 1-14 ;\\n\\nHouse Number: 1-14 Photo is Age: 31 Gender: FEMALE Photo is Age : 65 Gender: MALE Photo is\\n\\nAge: 34 Gender: MALE Available Available Available\\n\\nL | uuaig24141 [L_3] UUA1924158 UUA1924166\\n\\nName: B Padma Name : RAGHAVReddy Name: NARASAMMA\\n\\nHusband's Name : MUNASWAMI Father's Name : RAGHAV Reddy Husband's Name : RAGHAV Reddy\\n\\nHouse Number : 1-11 House Number = 1-12 House Number = 1-12\\n\\nAge: 60 Gender: FEMALE Photo is Age: 60 Gender: MALE Photo is Age: 65 Gender: FEMALE Photo is\\nAvailable Available Available\\n\\nUUA0780842 UUA1158146 UUA1113976\\n\\nName : AMULU MOPPE Name: DIVYAA Name: YUVARAJU K\\n\\nFather's Name : SUBRAMANYAM M Father's Name : MUNISEKHAR Father's Name : SUBBARAJU K\\n\\nHouse Number: 1-13 - CHETTY A House Number : 1-20\\n\\nAge: 27 Gender: FEMALE Photo is || House Number : 1-154 Photois || Age: 24 Gender: MALE Photo is\\nAvailable Age: 22 Gender: FEMALE Available Available\\n\\nUUA1924174 UUA1924182 UUA1924190\\n\\nName: SUBBALAKMI Name: GOVINDAReddy Name: B Govindamma\\n\\nHusband's Name : RAMACHADRAIAH Father's Name : SUBB Reddy Husband's Name : GOVINDA Reddy\\n\\nHouse Number : 1-20 House Number : 1-24 House Number : 1-24\\n\\nAge: 47 Gender: FEMALE Photo is Age: 63 Gender: MALE Photo is Age: 56 Gender: FEMALE Photo is\\nAvailable Available Available\\n\\nAge as on 01.01.2022 # - Modified as per supplement Date of Publication:-05-01-2022 Total Pages 36 - Page 3\\n\""
      ]
     },
     "execution_count": 40,
     "metadata": {},
     "output_type": "execute_result"
    }
   ],
   "source": [
    "text=pytesseract.image_to_string(PIL.Image.open(\"pdf/page1769.jpg\"),config=myconfig)\n",
    "text"
   ]
  },
  {
   "cell_type": "code",
   "execution_count": 37,
   "id": "bc599a0b",
   "metadata": {},
   "outputs": [],
   "source": [
    "\n",
    "soup = BeautifulSoup(text, \"html.parser\")"
   ]
  },
  {
   "cell_type": "code",
   "execution_count": 38,
   "id": "6c238581",
   "metadata": {},
   "outputs": [],
   "source": [
    "# soup"
   ]
  },
  {
   "cell_type": "code",
   "execution_count": 39,
   "id": "2f9b852d",
   "metadata": {},
   "outputs": [],
   "source": [
    "a=soup.findAll(\"string\")\n",
    "# a"
   ]
  },
  {
   "cell_type": "code",
   "execution_count": 31,
   "id": "e6161efc",
   "metadata": {},
   "outputs": [
    {
     "data": {
      "text/plain": [
       "'Name:'"
      ]
     },
     "execution_count": 31,
     "metadata": {},
     "output_type": "execute_result"
    }
   ],
   "source": [
    "a[24][\"content\"]"
   ]
  },
  {
   "cell_type": "code",
   "execution_count": 13,
   "id": "7e1d100b",
   "metadata": {},
   "outputs": [
    {
     "data": {
      "text/plain": [
       "<textline height=\"15\" hpos=\"77\" id=\"line_9\" vpos=\"375\" width=\"1175\">\n",
       "<string content=\"Name\" height=\"15\" hpos=\"77\" id=\"string_85\" vpos=\"375\" wc=\"0.76\" width=\"60\"></string><sp hpos=\"137\" vpos=\"375\" width=\"-6\"></sp>\n",
       "<string content=\":\" height=\"28\" hpos=\"131\" id=\"string_86\" vpos=\"371\" wc=\"0.53\" width=\"8\"></string><sp hpos=\"139\" vpos=\"371\" width=\"11\"></sp>\n",
       "<string content=\"DILIP\" height=\"15\" hpos=\"150\" id=\"string_87\" vpos=\"375\" wc=\"0.92\" width=\"45\"></string><sp hpos=\"195\" vpos=\"375\" width=\"7\"></sp>\n",
       "<string content=\"RAJALA\" height=\"15\" hpos=\"202\" id=\"string_88\" vpos=\"375\" wc=\"0.91\" width=\"70\"></string><sp hpos=\"272\" vpos=\"375\" width=\"307\"></sp>\n",
       "<string content=\"Name:\" height=\"15\" hpos=\"579\" id=\"string_89\" vpos=\"375\" wc=\"0.58\" width=\"60\"></string><sp hpos=\"639\" vpos=\"375\" width=\"13\"></sp>\n",
       "<string content=\"MUNEMMA\" height=\"15\" hpos=\"652\" id=\"string_90\" vpos=\"375\" wc=\"0.90\" width=\"113\"></string><sp hpos=\"765\" vpos=\"375\" width=\"-11\"></sp>\n",
       "<string content=\"B\" height=\"28\" hpos=\"754\" id=\"string_91\" vpos=\"371\" wc=\"0.57\" width=\"15\"></string><sp hpos=\"769\" vpos=\"371\" width=\"312\"></sp>\n",
       "<string content=\"Name:\" height=\"15\" hpos=\"1081\" id=\"string_92\" vpos=\"375\" wc=\"0.85\" width=\"60\"></string><sp hpos=\"1141\" vpos=\"375\" width=\"13\"></sp>\n",
       "<string content=\"LAKSHMIB\" height=\"15\" hpos=\"1154\" id=\"string_93\" vpos=\"375\" wc=\"0.80\" width=\"98\"></string>\n",
       "</textline>"
      ]
     },
     "execution_count": 13,
     "metadata": {},
     "output_type": "execute_result"
    }
   ],
   "source": [
    "t=soup.findAll(\"textline\")\n",
    "t[9]"
   ]
  },
  {
   "cell_type": "code",
   "execution_count": 15,
   "id": "8c0b01fd",
   "metadata": {},
   "outputs": [
    {
     "name": "stdout",
     "output_type": "stream",
     "text": [
      "SPERUMAL\n",
      "NSIVA\n",
      " S GOWRI\n",
      "CRUKHMINI\n",
      "p ganesh\n",
      "E NAGARAJ\n",
      "k bharathi\n",
      "PRATHIMA\n",
      " R KOMATHI\n",
      "C KALIYAMMA\n",
      " GANDHIVAMMA\n",
      "S DELL KUMAR\n",
      " BGANGAMMA\n",
      "KOKILA\n",
      " BBABU\n",
      "BMANJULA\n",
      " DEEPAN\n",
      "BMUTHAIAH\n",
      " BHANU\n",
      "RAJESHWARI\n"
     ]
    }
   ],
   "source": [
    "name=[]\n",
    "flag=0\n",
    "for i in range(3,len(t),6):\n",
    "    s=t[i].findAll(\"string\")\n",
    "    for j in range(0,len(s)):\n",
    "        if(s[j][\"content\"]==\"Name:\"):\n",
    "            x=\"\"\n",
    "            for k in range(j+1,len(s)):\n",
    "#                 print(k)\n",
    "                if(s[k][\"content\"]==\"Name:\" or k==len(s)-1):\n",
    "                    if(x==\"\"):\n",
    "                        break\n",
    "                    if(k==len(s)-1):\n",
    "                        p=0\n",
    "                        name.append(t[i].findAll(\"string\")[k][\"content\"])\n",
    "                    else:\n",
    "                        flag=0\n",
    "#                         print(k)\n",
    "                        print(x)\n",
    "                        name.append(x)\n",
    "                        break\n",
    "                else:\n",
    "                    if(flag==0):\n",
    "                        x=s[k][\"content\"]\n",
    "                        flag+=1\n",
    "                    elif(flag>=1):\n",
    "                        x =' '.join([x, s[k][\"content\"]]) \n",
    "                        "
   ]
  },
  {
   "cell_type": "code",
   "execution_count": 16,
   "id": "58082d6e",
   "metadata": {},
   "outputs": [
    {
     "data": {
      "text/plain": [
       "28"
      ]
     },
     "execution_count": 16,
     "metadata": {},
     "output_type": "execute_result"
    }
   ],
   "source": [
    "len(name)"
   ]
  },
  {
   "cell_type": "code",
   "execution_count": 21,
   "id": "b7b93e17",
   "metadata": {},
   "outputs": [],
   "source": [
    "guardian=[]\n",
    "flag=0\n",
    "t=soup.findAll(\"textline\")\n",
    "for i in range(4,len(t),6):\n",
    "    s=t[i].findAll(\"string\")\n",
    "    for j in range(0,len(s)):\n",
    "        if(s[j][\"content\"]==\"Father's\" or s[j][\"content\"]==\"Husband's\" or s[j][\"content\"]==\"Name\" or s[j][\"content\"]==\"Name:\" or s[j][\"content\"]==\":\" ):\n",
    "            x=\"\"\n",
    "            for k in range(j+1,len(s)):\n",
    "                if(s[k][\"content\"]==\"Name:\" or s[k][\"content\"]==\"Name\" or s[k][\"content\"]==\"Husband's\" or s[k][\"content\"]==\"Father's\" or s[k][\"content\"]==\":\" or k==len(s)-1):\n",
    "                    if(x==\"\"):\n",
    "                        break\n",
    "                    if(k==len(s)-1):\n",
    "                        p=0\n",
    "                        guardian.append(t[i].findAll(\"string\")[k][\"content\"])\n",
    "                        break\n",
    "                    else:\n",
    "                        flag=0\n",
    "#                         print(k)\n",
    "                        guardian.append(x)\n",
    "                        break\n",
    "                else:\n",
    "                    if(flag==0):\n",
    "                        x=s[k][\"content\"]\n",
    "                        flag+=1\n",
    "                    elif(flag>=1):\n",
    "                        x =' '.join([x, s[k][\"content\"]]) "
   ]
  },
  {
   "cell_type": "code",
   "execution_count": 22,
   "id": "81eb4b5f",
   "metadata": {},
   "outputs": [
    {
     "data": {
      "text/plain": [
       "'GANESH'"
      ]
     },
     "execution_count": 22,
     "metadata": {},
     "output_type": "execute_result"
    }
   ],
   "source": [
    "t[10].findAll(\"string\")[11][\"content\"]"
   ]
  },
  {
   "cell_type": "code",
   "execution_count": 24,
   "id": "fa22c550",
   "metadata": {},
   "outputs": [
    {
     "data": {
      "text/plain": [
       "26"
      ]
     },
     "execution_count": 24,
     "metadata": {},
     "output_type": "execute_result"
    }
   ],
   "source": [
    "len(guardian)"
   ]
  },
  {
   "cell_type": "code",
   "execution_count": 20,
   "id": "79e76353",
   "metadata": {
    "scrolled": true
   },
   "outputs": [
    {
     "name": "stdout",
     "output_type": "stream",
     "text": [
      "31-369\n",
      "31-370\n",
      "31-371\n",
      "31-371\n",
      "31-372\n",
      "31-373\n",
      "31-374\n",
      "31-376\n",
      "31-377\n",
      "31-378\n",
      "31-379\n",
      "31-379\n",
      "31-380\n",
      "31-380\n",
      "31-381\n",
      "31-381\n",
      "31-382\n",
      "31-382\n",
      "31-384\n",
      "31-386\n"
     ]
    }
   ],
   "source": [
    "house_number=[]\n",
    "flag=0\n",
    "t=soup.findAll(\"textline\")\n",
    "for i in range(5,len(t),6):\n",
    "    s=t[i].findAll(\"string\")\n",
    "    for j in range(0,len(s)):\n",
    "        if(s[j][\"content\"]==\"House\" or s[j][\"content\"]==\"Number:\" or s[j][\"content\"]==\"Number\" or s[j][\"content\"]==\"-\" or s[j][\"content\"]==\":\"):\n",
    "            x=\"\"\n",
    "            for k in range(j+1,len(s)):\n",
    "#                 print(k)\n",
    "                if(s[k][\"content\"]==\"House\" or s[k][\"content\"]==\"Number:\" or s[k][\"content\"]==\"Number\" or s[k][\"content\"]==\"-\" or s[k][\"content\"]==\":\" or k==len(s)-1):\n",
    "                    if(x==\"\"):\n",
    "                        break\n",
    "                    if(k==len(s)-1):\n",
    "                        house_number.append(t[i].findAll(\"string\")[k][\"content\"])\n",
    "                        break\n",
    "                    else:\n",
    "                        flag=0\n",
    "#                         print(k)\n",
    "                        print(x)\n",
    "                        house_number.append(x)\n",
    "                        break\n",
    "                else:\n",
    "                    if(flag==0):\n",
    "                        x=s[k][\"content\"]\n",
    "                        flag+=1\n",
    "                    elif(flag>=1):\n",
    "                        x =' '.join([x, s[k][\"content\"]]) "
   ]
  },
  {
   "cell_type": "code",
   "execution_count": 21,
   "id": "29179f48",
   "metadata": {},
   "outputs": [],
   "source": [
    "# t[10]  # check once"
   ]
  },
  {
   "cell_type": "code",
   "execution_count": 22,
   "id": "a8d25c76",
   "metadata": {},
   "outputs": [
    {
     "data": {
      "text/plain": [
       "['31-369',\n",
       " '31-370',\n",
       " '31-371',\n",
       " '31-371',\n",
       " '31-372',\n",
       " '31-373',\n",
       " '31-374',\n",
       " '31-376',\n",
       " '31-377',\n",
       " '31-378',\n",
       " '31-379',\n",
       " '31-379',\n",
       " '31-380',\n",
       " '31-380',\n",
       " '31-381',\n",
       " '31-381',\n",
       " '31-382',\n",
       " '31-382',\n",
       " '31-384',\n",
       " '31-386']"
      ]
     },
     "execution_count": 22,
     "metadata": {},
     "output_type": "execute_result"
    }
   ],
   "source": [
    "house_number"
   ]
  },
  {
   "cell_type": "code",
   "execution_count": 23,
   "id": "bf5d1341",
   "metadata": {},
   "outputs": [
    {
     "name": "stdout",
     "output_type": "stream",
     "text": [
      "41 Gender: MALE Photo is\n",
      "MALE\n",
      "MALE\n",
      "Age: 48\n",
      "48 Gender: MALE Photo is\n",
      "MALE\n",
      "MALE\n",
      "Age: 56\n",
      "56 Gender: FEMALE Photo FEMALE\n",
      "38 Gender: FEMALE Photo is\n",
      "FEMALE\n",
      "FEMALE\n",
      "Age: 70\n",
      "70 Gender: FEMALE Photo is\n",
      "FEMALE\n",
      "FEMALE\n",
      "Age: 51\n",
      "51 Gender: FEMALE Photo FEMALE\n",
      "55 Gender: MALE Photo is\n",
      "MALE\n",
      "MALE\n",
      "Age: 54\n",
      "54 Gender: MALE Photo is\n",
      "MALE\n",
      "MALE\n",
      "Age: 46\n",
      "46 Gender: FEMALE Photo FEMALE\n",
      "37 Gender: FEMALE Photo is\n",
      "FEMALE\n",
      "FEMALE\n",
      "Age: 33\n",
      "33 Gender: FEMALE Photo is\n",
      "FEMALE\n",
      "FEMALE\n",
      "Age: 58\n",
      "58 Gender: MALE Photo MALE\n",
      "50 Gender: FEMALE Photo is\n",
      "FEMALE\n",
      "FEMALE\n",
      "Age: 57\n",
      "57 Gender: FEMALE Photo is\n",
      "FEMALE\n",
      "FEMALE\n",
      "Age: 41\n",
      "41 Gender: MALE Photo MALE\n",
      "58 Gender: FEMALE Photo is\n",
      "FEMALE\n",
      "FEMALE\n",
      "Age: 32\n",
      "32 Gender: MALE Photo is\n",
      "MALE\n",
      "MALE\n",
      "Age: 38\n",
      "38 Gender: MALE Photo MALE\n",
      "71 Gender: FEMALE Photo is\n",
      "FEMALE\n",
      "FEMALE\n",
      "Age: 41\n",
      "41 Gender: FEMALE Photo is\n",
      "FEMALE\n",
      "FEMALE\n",
      "Age: 33\n",
      "33 Gender: MALE Photo MALE\n",
      "49 Gender = MALE Photo is\n",
      "49 Gender = MALE Photo is\n",
      "Age: 47\n",
      "47 Gender: FEMALE Photo is\n",
      "FEMALE\n",
      "FEMALE\n",
      "Age: 36\n",
      "36 Gender: FEMALE Photo FEMALE\n",
      "36 Gender: FEMALE Photo is\n",
      "FEMALE\n",
      "FEMALE\n",
      "Age: 74\n",
      "74 Gender: MALE Photo is\n",
      "MALE\n",
      "MALE\n",
      "Age: 47\n",
      "47 Gender: FEMALE Photo FEMALE\n",
      "44 Gender: FEMALE Photo is\n",
      "FEMALE\n",
      "FEMALE\n",
      "Age: 55\n",
      "55 Gender: FEMALE Photo is\n",
      "FEMALE\n",
      "FEMALE\n",
      "Age: 36\n",
      "36 Gender: MALE Photo MALE\n"
     ]
    }
   ],
   "source": [
    "age=[]\n",
    "gender=[]\n",
    "flag=0\n",
    "t=soup.findAll(\"textline\")\n",
    "for i in range(6,len(t),6):\n",
    "    s=t[i].findAll(\"string\")\n",
    "    for j in range(0,len(s)):\n",
    "        if(s[j][\"content\"]==\"Age:\" or s[j][\"content\"]==\"\"):\n",
    "            x=\"\"\n",
    "            for k in range(j+1,len(s)):\n",
    "                if(s[k][\"content\"]==\"Age:\" or k==len(s)-1):\n",
    "                    if(x==\"\"):\n",
    "                        break\n",
    "                    if(k==len(s)-1):\n",
    "                        p=0\n",
    "                        age.append(t[i].findAll(\"string\")[k][\"content\"])\n",
    "                        break\n",
    "                    else:\n",
    "                        flag=0\n",
    "#                         print(k)\n",
    "                        print(x)\n",
    "                        age.append(x)\n",
    "                        break\n",
    "                else:\n",
    "                    if(flag==0):\n",
    "                        x=s[k][\"content\"]\n",
    "                        flag+=1\n",
    "                    elif(flag>=1):\n",
    "                        x =' '.join([x, s[k][\"content\"]])\n",
    "        elif (s[j][\"content\"]==\"Gender:\" or s[j][\"content\"]==\"Photo\" or s[j][\"content\"]==\"is\"):\n",
    "            y=\"\"\n",
    "            for k in range(j+1,len(s)):\n",
    "                if(s[k][\"content\"]==\"Gender:\"  or s[k][\"content\"]==\"Photo\" or s[k][\"content\"]==\"is\"   or k==len(s)-1):\n",
    "                    if(x==\"\"):\n",
    "                        break\n",
    "                    if(k==len(s)-1):\n",
    "                        p=0\n",
    "                        gender.append(t[i].findAll(\"string\")[k][\"content\"])\n",
    "                        break\n",
    "                    else:\n",
    "                        flag=0\n",
    "#                         print(k)\n",
    "                        print(x)\n",
    "                        gender.append(x)\n",
    "                        break\n",
    "                else:\n",
    "                    if(flag==0):\n",
    "                        x=s[k][\"content\"]\n",
    "                        flag+=1\n",
    "                    elif(flag>=1):\n",
    "                        x =' '.join([x, s[k][\"content\"]])"
   ]
  },
  {
   "cell_type": "code",
   "execution_count": 24,
   "id": "b973a92b",
   "metadata": {},
   "outputs": [
    {
     "data": {
      "text/plain": [
       "<textline height=\"11\" hpos=\"58\" id=\"line_3\" vpos=\"114\" width=\"894\">\n",
       "<string content=\"Name:\" height=\"11\" hpos=\"58\" id=\"string_24\" vpos=\"114\" wc=\"0.72\" width=\"38\"></string><sp hpos=\"96\" vpos=\"114\" width=\"17\"></sp>\n",
       "<string content=\"SPERUMAL\" height=\"11\" hpos=\"113\" id=\"string_25\" vpos=\"114\" wc=\"0.80\" width=\"82\"></string><sp hpos=\"195\" vpos=\"114\" width=\"240\"></sp>\n",
       "<string content=\"Name:\" height=\"11\" hpos=\"435\" id=\"string_26\" vpos=\"114\" wc=\"0.72\" width=\"38\"></string><sp hpos=\"473\" vpos=\"114\" width=\"17\"></sp>\n",
       "<string content=\"NSIVA\" height=\"11\" hpos=\"490\" id=\"string_27\" vpos=\"114\" wc=\"0.21\" width=\"44\"></string><sp hpos=\"534\" vpos=\"114\" width=\"278\"></sp>\n",
       "<string content=\"Name:\" height=\"11\" hpos=\"812\" id=\"string_28\" vpos=\"114\" wc=\"0.82\" width=\"38\"></string><sp hpos=\"850\" vpos=\"114\" width=\"17\"></sp>\n",
       "<string content=\"S\" height=\"11\" hpos=\"867\" id=\"string_29\" vpos=\"114\" wc=\"0.87\" width=\"8\"></string><sp hpos=\"875\" vpos=\"114\" width=\"7\"></sp>\n",
       "<string content=\"BALA\" height=\"31\" hpos=\"882\" id=\"string_30\" vpos=\"104\" wc=\"0.81\" width=\"34\"></string><sp hpos=\"916\" vpos=\"104\" width=\"5\"></sp>\n",
       "<string content=\"MANI\" height=\"31\" hpos=\"921\" id=\"string_31\" vpos=\"104\" wc=\"0.81\" width=\"31\"></string>\n",
       "</textline>"
      ]
     },
     "execution_count": 24,
     "metadata": {},
     "output_type": "execute_result"
    }
   ],
   "source": [
    "t[3]"
   ]
  },
  {
   "cell_type": "code",
   "execution_count": 25,
   "id": "6948ba7f",
   "metadata": {},
   "outputs": [
    {
     "data": {
      "text/plain": [
       "<textline height=\"25\" hpos=\"57\" id=\"line_6\" vpos=\"157\" width=\"1095\">\n",
       "<string content=\"Age:\" height=\"14\" hpos=\"57\" id=\"string_55\" vpos=\"164\" wc=\"0.83\" width=\"25\"></string><sp hpos=\"82\" vpos=\"164\" width=\"17\"></sp>\n",
       "<string content=\"41\" height=\"11\" hpos=\"99\" id=\"string_56\" vpos=\"164\" wc=\"0.94\" width=\"12\"></string><sp hpos=\"111\" vpos=\"164\" width=\"12\"></sp>\n",
       "<string content=\"Gender:\" height=\"11\" hpos=\"123\" id=\"string_57\" vpos=\"164\" wc=\"0.82\" width=\"47\"></string><sp hpos=\"170\" vpos=\"164\" width=\"17\"></sp>\n",
       "<string content=\"MALE\" height=\"11\" hpos=\"187\" id=\"string_58\" vpos=\"164\" wc=\"0.96\" width=\"36\"></string><sp hpos=\"223\" vpos=\"164\" width=\"120\"></sp>\n",
       "<string content=\"Photo\" height=\"25\" hpos=\"343\" id=\"string_59\" vpos=\"157\" wc=\"0.93\" width=\"38\"></string><sp hpos=\"381\" vpos=\"157\" width=\"8\"></sp>\n",
       "<string content=\"is\" height=\"8\" hpos=\"389\" id=\"string_60\" vpos=\"164\" wc=\"0.96\" width=\"9\"></string><sp hpos=\"398\" vpos=\"164\" width=\"36\"></sp>\n",
       "<string content=\"Age:\" height=\"14\" hpos=\"434\" id=\"string_61\" vpos=\"164\" wc=\"0.82\" width=\"25\"></string><sp hpos=\"459\" vpos=\"164\" width=\"16\"></sp>\n",
       "<string content=\"48\" height=\"11\" hpos=\"475\" id=\"string_62\" vpos=\"164\" wc=\"0.96\" width=\"15\"></string><sp hpos=\"490\" vpos=\"164\" width=\"10\"></sp>\n",
       "<string content=\"Gender:\" height=\"11\" hpos=\"500\" id=\"string_63\" vpos=\"164\" wc=\"0.71\" width=\"47\"></string><sp hpos=\"547\" vpos=\"164\" width=\"17\"></sp>\n",
       "<string content=\"MALE\" height=\"11\" hpos=\"564\" id=\"string_64\" vpos=\"164\" wc=\"0.96\" width=\"36\"></string><sp hpos=\"600\" vpos=\"164\" width=\"120\"></sp>\n",
       "<string content=\"Photo\" height=\"25\" hpos=\"720\" id=\"string_65\" vpos=\"157\" wc=\"0.93\" width=\"38\"></string><sp hpos=\"758\" vpos=\"157\" width=\"8\"></sp>\n",
       "<string content=\"is\" height=\"8\" hpos=\"766\" id=\"string_66\" vpos=\"164\" wc=\"0.96\" width=\"9\"></string><sp hpos=\"775\" vpos=\"164\" width=\"36\"></sp>\n",
       "<string content=\"Age:\" height=\"14\" hpos=\"811\" id=\"string_67\" vpos=\"164\" wc=\"0.70\" width=\"25\"></string><sp hpos=\"836\" vpos=\"164\" width=\"17\"></sp>\n",
       "<string content=\"56\" height=\"11\" hpos=\"853\" id=\"string_68\" vpos=\"164\" wc=\"0.94\" width=\"14\"></string><sp hpos=\"867\" vpos=\"164\" width=\"10\"></sp>\n",
       "<string content=\"Gender:\" height=\"11\" hpos=\"877\" id=\"string_69\" vpos=\"164\" wc=\"0.74\" width=\"47\"></string><sp hpos=\"924\" vpos=\"164\" width=\"17\"></sp>\n",
       "<string content=\"FEMALE\" height=\"11\" hpos=\"941\" id=\"string_70\" vpos=\"164\" wc=\"0.96\" width=\"55\"></string><sp hpos=\"996\" vpos=\"164\" width=\"105\"></sp>\n",
       "<string content=\"Photo\" height=\"11\" hpos=\"1101\" id=\"string_71\" vpos=\"161\" wc=\"0.92\" width=\"51\"></string><sp hpos=\"1152\" vpos=\"161\" width=\"-12\"></sp>\n",
       "<string content=\"is\" height=\"25\" hpos=\"1140\" id=\"string_72\" vpos=\"157\" wc=\"0.96\" width=\"16\"></string>\n",
       "</textline>"
      ]
     },
     "execution_count": 25,
     "metadata": {},
     "output_type": "execute_result"
    }
   ],
   "source": [
    "t[6]"
   ]
  },
  {
   "cell_type": "code",
   "execution_count": null,
   "id": "fe881a9b",
   "metadata": {},
   "outputs": [],
   "source": []
  },
  {
   "cell_type": "code",
   "execution_count": null,
   "id": "54f73854",
   "metadata": {},
   "outputs": [],
   "source": []
  },
  {
   "cell_type": "code",
   "execution_count": null,
   "id": "4291aaf6",
   "metadata": {},
   "outputs": [],
   "source": []
  }
 ],
 "metadata": {
  "kernelspec": {
   "display_name": "Python 3 (ipykernel)",
   "language": "python",
   "name": "python3"
  },
  "language_info": {
   "codemirror_mode": {
    "name": "ipython",
    "version": 3
   },
   "file_extension": ".py",
   "mimetype": "text/x-python",
   "name": "python",
   "nbconvert_exporter": "python",
   "pygments_lexer": "ipython3",
   "version": "3.10.4"
  }
 },
 "nbformat": 4,
 "nbformat_minor": 5
}
