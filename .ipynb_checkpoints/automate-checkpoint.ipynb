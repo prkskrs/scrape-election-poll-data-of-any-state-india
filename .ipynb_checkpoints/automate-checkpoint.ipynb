{
 "cells": [
  {
   "cell_type": "code",
   "execution_count": 1,
   "id": "40386cc7",
   "metadata": {},
   "outputs": [],
   "source": [
    "import pytesseract\n",
    "import PIL.Image\n",
    "import cv2\n",
    "from bs4 import BeautifulSoup\n",
    "import pandas as pd\n",
    "from pdf2image import convert_from_path\n",
    "import warnings\n",
    "warnings.filterwarnings(\"ignore\") \n",
    "myconfig=r\"--psm 6 --oem 3\""
   ]
  },
  {
   "cell_type": "code",
   "execution_count": null,
   "id": "5d839295",
   "metadata": {},
   "outputs": [
    {
     "name": "stdout",
     "output_type": "stream",
     "text": [
      "5050\n",
      "5100\n",
      "5150\n",
      "5200\n",
      "5250\n",
      "5300\n",
      "5350\n",
      "5400\n",
      "5450\n",
      "5500\n",
      "5550\n",
      "5600\n",
      "5650\n",
      "5700\n",
      "5750\n",
      "5800\n",
      "5850\n",
      "5900\n",
      "5950\n",
      "6000\n",
      "6050\n",
      "6100\n",
      "6150\n",
      "6200\n",
      "6250\n",
      "6300\n",
      "6350\n",
      "6400\n",
      "6450\n",
      "6500\n",
      "6550\n",
      "6600\n",
      "6650\n",
      "6700\n",
      "6750\n",
      "6800\n",
      "6850\n",
      "6900\n",
      "6950\n",
      "7000\n",
      "7050\n",
      "7100\n",
      "7150\n",
      "7200\n",
      "7250\n",
      "7300\n",
      "7350\n",
      "7400\n",
      "7450\n",
      "7500\n",
      "7550\n",
      "7600\n",
      "7650\n",
      "7700\n",
      "7750\n",
      "7800\n",
      "7850\n",
      "7900\n",
      "7950\n",
      "8000\n",
      "8050\n",
      "8100\n",
      "8150\n"
     ]
    }
   ],
   "source": [
    "cnt=0\n",
    "flag=0\n",
    "# len(images)\n",
    "for m in range(5001,8298):\n",
    "    names=[]\n",
    "    guardian=[]\n",
    "    house_number=[]\n",
    "    age_list=[]\n",
    "    gender=[]\n",
    "    text=pytesseract.image_to_alto_xml(PIL.Image.open(f\"pdf/page{m}.jpg\"),config=myconfig)\n",
    "    if(m%50==0):\n",
    "        print(f\"{m}\",sep=\" \")\n",
    "    soup = BeautifulSoup(text, \"html.parser\")\n",
    "    t=soup.findAll(\"textline\")\n",
    "    cnt=0\n",
    "    flag=0\n",
    "    for i in range(3,len(t),6):\n",
    "        string=t[i].findAll(\"string\")\n",
    "        x=\"\"\n",
    "        for j in range(0,len(string)):\n",
    "\n",
    "            if(string[j][\"content\"]!=\"Name:\" and cnt==0):\n",
    "                x=string[j][\"content\"]\n",
    "                cnt+=1\n",
    "            elif(string[j][\"content\"]!=\"Name:\" and cnt>=1):\n",
    "                x =' '.join([x, string[j][\"content\"]]) \n",
    "                cnt+=1\n",
    "            if(string[j][\"content\"]==\"Name:\"):\n",
    "                if(x==\"\"):\n",
    "                    continue\n",
    "                if(cnt>1):\n",
    "                    names.append(x)\n",
    "                    cnt=0\n",
    "                else:\n",
    "                    names.append(x)\n",
    "                    cnt=0\n",
    "    cnt=0\n",
    "    flag=0\n",
    "    for i in range(4,len(t),6):\n",
    "        string=t[i].findAll(\"string\")\n",
    "        x=\"\"\n",
    "        for j in range(0,len(string)):\n",
    "\n",
    "            if(string[j][\"content\"]!=\"Father's\" and string[j][\"content\"]!=\"Husband's\"  and string[j][\"content\"]!=\"Name\" and string[j][\"content\"]!=\":\" and string[j][\"content\"]!=\"Name:\" and cnt==0):\n",
    "                x=string[j][\"content\"]\n",
    "                cnt+=1\n",
    "            elif(string[j][\"content\"]!=\"Father's\" and string[j][\"content\"]!=\"Husband's\"  and string[j][\"content\"]!=\"Name\" and string[j][\"content\"]!=\":\" and string[j][\"content\"]!=\"Name:\"  and cnt>=1):\n",
    "                x =' '.join([x, string[j][\"content\"]]) \n",
    "                cnt+=1\n",
    "            if(string[j][\"content\"]==\"Father's\" or string[j][\"content\"]==\"Husband's\"  or string[j][\"content\"]==\"Name\" or string[j][\"content\"]==\":\" or string[j][\"content\"]==\"Name:\" ):\n",
    "                if(x==\"\"):\n",
    "                    continue\n",
    "                elif(cnt>1):\n",
    "                    guardian.append(x)\n",
    "                    cnt=0\n",
    "                else:\n",
    "                    guardian.append(x)\n",
    "                    cnt=0\n",
    "    guardian=list(dict.fromkeys(guardian))\n",
    "    cnt=0\n",
    "    flag=0\n",
    "    for i in range(5,len(t),6):\n",
    "        string=t[i].findAll(\"string\")\n",
    "        x=\"\"\n",
    "        for j in range(0,len(string)):\n",
    "\n",
    "            if(string[j][\"content\"]!=\"House\" and string[j][\"content\"]!=\"Number:\" and string[j][\"content\"]!=\"=\" and string[j][\"content\"]!=\"Number\" and string[j][\"content\"]!=\"-\" and string[j][\"content\"]!=\":\" and cnt==0):\n",
    "                x=string[j][\"content\"]\n",
    "                cnt+=1\n",
    "            elif(string[j][\"content\"]!=\"House\" and string[j][\"content\"]!=\"Number:\" and string[j][\"content\"]!=\"=\"   and string[j][\"content\"]!=\"Number\" and string[j][\"content\"]!=\"-\" and string[j][\"content\"]!=\":\" and cnt>=1):\n",
    "                x =' '.join([x, string[j][\"content\"]]) \n",
    "                cnt+=1\n",
    "            if(string[j][\"content\"]==\"House\" or string[j][\"content\"]==\"Number:\" or string[j][\"content\"]==\"=\"   or string[j][\"content\"]==\"Number\" or string[j][\"content\"]==\"-\" or string[j][\"content\"]==\":\" ):\n",
    "                if(x==\"\"):\n",
    "                    continue\n",
    "                elif(cnt>1):\n",
    "                    house_number.append(x)\n",
    "                    cnt=0\n",
    "                else:\n",
    "                    house_number.append(x)\n",
    "                    cnt=0\n",
    "    house_number=list(dict.fromkeys(house_number))\n",
    "    for i in range(6,len(t),6):\n",
    "        string=t[i].findAll(\"string\")\n",
    "        for j in range(0,len(string)):\n",
    "            if(string[j][\"content\"].isnumeric()):\n",
    "                age_list.append(string[j][\"content\"])\n",
    "    age_list=[value for key,value in enumerate(age_list,1) if key%3!=0 ]\n",
    "    for i in range(6,len(t),6):\n",
    "        string=t[i].findAll(\"string\")\n",
    "        for j in range(0,len(string)):\n",
    "            if(string[j][\"content\"]==\"MALE\" or string[j][\"content\"]==\"FEMALE\"):\n",
    "                gender.append(string[j][\"content\"])\n",
    "    gender=[v for k,v in enumerate(gender,1) if k%3!=0]\n",
    "    s1=pd.Series(names,name='Name')\n",
    "    s2=pd.Series(guardian,name='Relation')\n",
    "    s3=pd.Series(house_number ,name='House Number')\n",
    "    s4=pd.Series(age_list ,name='Age')\n",
    "    s5=pd.Series(gender ,name='Gender')\n",
    "    data = pd.concat([s1,s2,s3,s4,s5], axis=1)\n",
    "    data.to_csv(\"finalsample.csv\", mode='a', index=False, header=data.columns)"
   ]
  },
  {
   "cell_type": "code",
   "execution_count": 5,
   "id": "e5febea4",
   "metadata": {
    "scrolled": true
   },
   "outputs": [
    {
     "data": {
      "text/plain": [
       "['MOHAN',\n",
       " 'M SHIVAGAMI',\n",
       " ' BHASKAR V',\n",
       " 'KRISHNAIAH K',\n",
       " ' R K UMAPATHI',\n",
       " 'GOVINDASWAMY K',\n",
       " ' VISKUMAR',\n",
       " 'R RAMA CHANDRA',\n",
       " ' SUBRAMANIYAM',\n",
       " 'RAVI KUMAR S',\n",
       " ' KUMAR WS',\n",
       " 'PARTHIBAN W S K',\n",
       " ' M HARI',\n",
       " 'MUNASWAMI',\n",
       " ' K NARAAYANA',\n",
       " 'BHOOPATHI']"
      ]
     },
     "execution_count": 5,
     "metadata": {},
     "output_type": "execute_result"
    }
   ],
   "source": [
    "guardian"
   ]
  },
  {
   "cell_type": "code",
   "execution_count": 6,
   "id": "5ce7bcef",
   "metadata": {},
   "outputs": [
    {
     "data": {
      "text/plain": [
       "['SHIVGAMI',\n",
       " 'M GANESH',\n",
       " ' LAVANYAV B',\n",
       " 'PRABHAKAR P-',\n",
       " ' Name : K VENKATESWARULU',\n",
       " 'ANAND G',\n",
       " ' VISKAYPARTHIBAN',\n",
       " 'R SIVA KUMAR',\n",
       " ' Name : RAVI KUMAR SUBRAMANIYAM',\n",
       " 'SELVIR',\n",
       " ' HARI PRASAD W S K',\n",
       " 'ROJAP',\n",
       " ' Name = M VASANTHA',\n",
       " ' N PUSHPA',\n",
       " 'B SHELVAM']"
      ]
     },
     "execution_count": 6,
     "metadata": {},
     "output_type": "execute_result"
    }
   ],
   "source": [
    "names"
   ]
  },
  {
   "cell_type": "code",
   "execution_count": 7,
   "id": "430f7574",
   "metadata": {},
   "outputs": [
    {
     "data": {
      "text/plain": [
       "['53',\n",
       " '30',\n",
       " '42',\n",
       " '62',\n",
       " '61',\n",
       " '53',\n",
       " '34',\n",
       " '48',\n",
       " '37',\n",
       " '32',\n",
       " '30',\n",
       " '61',\n",
       " '46',\n",
       " '38',\n",
       " '52',\n",
       " '47']"
      ]
     },
     "execution_count": 7,
     "metadata": {},
     "output_type": "execute_result"
    }
   ],
   "source": [
    "age_list"
   ]
  },
  {
   "cell_type": "code",
   "execution_count": 8,
   "id": "67a0a0b9",
   "metadata": {},
   "outputs": [
    {
     "data": {
      "text/plain": [
       "['FEMALE',\n",
       " 'MALE',\n",
       " 'FEMALE',\n",
       " 'MALE',\n",
       " 'MALE',\n",
       " 'MALE',\n",
       " 'MALE',\n",
       " 'MALE',\n",
       " 'FEMALE',\n",
       " 'FEMALE',\n",
       " 'FEMALE',\n",
       " 'MALE',\n",
       " 'MALE',\n",
       " 'FEMALE',\n",
       " 'MALE',\n",
       " 'FEMALE']"
      ]
     },
     "execution_count": 8,
     "metadata": {},
     "output_type": "execute_result"
    }
   ],
   "source": [
    "gender"
   ]
  },
  {
   "cell_type": "code",
   "execution_count": 2,
   "id": "2c8fe20d",
   "metadata": {},
   "outputs": [],
   "source": [
    "import pandas as pd\n",
    "d=pd.read_csv(\"finalsample.csv\")"
   ]
  },
  {
   "cell_type": "code",
   "execution_count": 3,
   "id": "12f3062b",
   "metadata": {},
   "outputs": [
    {
     "data": {
      "text/plain": [
       "(59035, 5)"
      ]
     },
     "execution_count": 3,
     "metadata": {},
     "output_type": "execute_result"
    }
   ],
   "source": [
    "d.shape"
   ]
  },
  {
   "cell_type": "code",
   "execution_count": 4,
   "id": "6e3098ae",
   "metadata": {},
   "outputs": [],
   "source": [
    "d.dropna(inplace=True)"
   ]
  },
  {
   "cell_type": "code",
   "execution_count": 5,
   "id": "9af7c57a",
   "metadata": {},
   "outputs": [
    {
     "data": {
      "text/plain": [
       "(43892, 5)"
      ]
     },
     "execution_count": 5,
     "metadata": {},
     "output_type": "execute_result"
    }
   ],
   "source": [
    "d.shape"
   ]
  },
  {
   "cell_type": "code",
   "execution_count": 6,
   "id": "df8260a6",
   "metadata": {},
   "outputs": [],
   "source": [
    "d.drop(d[d[\"Name\"]==\"Name\"].index, inplace=True)"
   ]
  },
  {
   "cell_type": "code",
   "execution_count": 7,
   "id": "bc7a2fdb",
   "metadata": {},
   "outputs": [
    {
     "data": {
      "text/plain": [
       "(40644, 5)"
      ]
     },
     "execution_count": 7,
     "metadata": {},
     "output_type": "execute_result"
    }
   ],
   "source": [
    "d.shape"
   ]
  },
  {
   "cell_type": "code",
   "execution_count": 8,
   "id": "9966a8b2",
   "metadata": {},
   "outputs": [],
   "source": [
    "d=d.to_csv(\"final.csv\",index=False)"
   ]
  },
  {
   "cell_type": "code",
   "execution_count": 9,
   "id": "a1e09981",
   "metadata": {},
   "outputs": [],
   "source": [
    "d=pd.read_csv(\"final.csv\")"
   ]
  },
  {
   "cell_type": "code",
   "execution_count": 10,
   "id": "c30954af",
   "metadata": {},
   "outputs": [
    {
     "data": {
      "text/plain": [
       "'REVANTH G J'"
      ]
     },
     "execution_count": 10,
     "metadata": {},
     "output_type": "execute_result"
    }
   ],
   "source": [
    "d[\"Name\"][0]"
   ]
  },
  {
   "cell_type": "code",
   "execution_count": 11,
   "id": "d8c0c7ff",
   "metadata": {},
   "outputs": [
    {
     "data": {
      "text/plain": [
       "'REVANTH G J'"
      ]
     },
     "execution_count": 11,
     "metadata": {},
     "output_type": "execute_result"
    }
   ],
   "source": [
    "d[\"Name\"]=d[\"Name\"].str.strip()\n",
    "d[\"Relation\"]=d[\"Relation\"].str.strip()\n",
    "d[\"House Number\"]=d[\"House Number\"].str.strip()\n",
    "d[\"Gender\"]=d[\"Gender\"].str.strip()\n",
    "d[\"Name\"][0]"
   ]
  },
  {
   "cell_type": "code",
   "execution_count": 12,
   "id": "60bd90a4",
   "metadata": {},
   "outputs": [],
   "source": [
    "def remove(text):\n",
    "    if(text[0:7]==\"Name : \" or text[0:7]==\"Name - \" ):\n",
    "        text=text[7:]\n",
    "        return text\n",
    "    return text\n",
    "remove(\"Name : B SAI\")\n",
    "d[\"Name\"]=d[\"Name\"].apply(remove)\n"
   ]
  },
  {
   "cell_type": "code",
   "execution_count": 14,
   "id": "3d082a4d",
   "metadata": {},
   "outputs": [],
   "source": [
    "d.to_csv(\"FINAL4.csv\",index=False)"
   ]
  },
  {
   "cell_type": "code",
   "execution_count": 15,
   "id": "3c93a15a",
   "metadata": {},
   "outputs": [
    {
     "data": {
      "text/html": [
       "<div>\n",
       "<style scoped>\n",
       "    .dataframe tbody tr th:only-of-type {\n",
       "        vertical-align: middle;\n",
       "    }\n",
       "\n",
       "    .dataframe tbody tr th {\n",
       "        vertical-align: top;\n",
       "    }\n",
       "\n",
       "    .dataframe thead th {\n",
       "        text-align: right;\n",
       "    }\n",
       "</style>\n",
       "<table border=\"1\" class=\"dataframe\">\n",
       "  <thead>\n",
       "    <tr style=\"text-align: right;\">\n",
       "      <th></th>\n",
       "      <th>Name</th>\n",
       "      <th>Relation</th>\n",
       "      <th>House Number</th>\n",
       "      <th>Age</th>\n",
       "      <th>Gender</th>\n",
       "    </tr>\n",
       "  </thead>\n",
       "  <tbody>\n",
       "    <tr>\n",
       "      <th>0</th>\n",
       "      <td>REVANTH G J</td>\n",
       "      <td>JAYAKUMAR G K</td>\n",
       "      <td>3</td>\n",
       "      <td>19</td>\n",
       "      <td>MALE</td>\n",
       "    </tr>\n",
       "    <tr>\n",
       "      <th>1</th>\n",
       "      <td>Mitravinda</td>\n",
       "      <td>Sathyanarayana</td>\n",
       "      <td>118</td>\n",
       "      <td>31</td>\n",
       "      <td>FEMALE</td>\n",
       "    </tr>\n",
       "    <tr>\n",
       "      <th>2</th>\n",
       "      <td>KP SWETHA</td>\n",
       "      <td>K S PRAKASH</td>\n",
       "      <td>3-123-2 ;</td>\n",
       "      <td>20</td>\n",
       "      <td>FEMALE</td>\n",
       "    </tr>\n",
       "    <tr>\n",
       "      <th>3</th>\n",
       "      <td>POOJASRI R C</td>\n",
       "      <td>CHANDRASEKHAR R</td>\n",
       "      <td>3-130</td>\n",
       "      <td>20</td>\n",
       "      <td>FEMALE</td>\n",
       "    </tr>\n",
       "    <tr>\n",
       "      <th>4</th>\n",
       "      <td>NIHARIKA V</td>\n",
       "      <td>SREENIVASULU V</td>\n",
       "      <td>3-209B</td>\n",
       "      <td>25</td>\n",
       "      <td>FEMALE</td>\n",
       "    </tr>\n",
       "    <tr>\n",
       "      <th>...</th>\n",
       "      <td>...</td>\n",
       "      <td>...</td>\n",
       "      <td>...</td>\n",
       "      <td>...</td>\n",
       "      <td>...</td>\n",
       "    </tr>\n",
       "    <tr>\n",
       "      <th>40639</th>\n",
       "      <td>P PRISKILLA</td>\n",
       "      <td>M RAJAMANIKYAM</td>\n",
       "      <td>4-14/1</td>\n",
       "      <td>27</td>\n",
       "      <td>FEMALE</td>\n",
       "    </tr>\n",
       "    <tr>\n",
       "      <th>40640</th>\n",
       "      <td>PREETHIMA Name : AMUDHA</td>\n",
       "      <td>LATE PHILIP</td>\n",
       "      <td>4-47</td>\n",
       "      <td>25</td>\n",
       "      <td>FEMALE</td>\n",
       "    </tr>\n",
       "    <tr>\n",
       "      <th>40641</th>\n",
       "      <td>PALANIM Name : RANJAN! LATHIF</td>\n",
       "      <td>MURUGESHAN M</td>\n",
       "      <td>4-49</td>\n",
       "      <td>57</td>\n",
       "      <td>FEMALE</td>\n",
       "    </tr>\n",
       "    <tr>\n",
       "      <th>40642</th>\n",
       "      <td>KARTHIKA</td>\n",
       "      <td>LATHIF</td>\n",
       "      <td>4-54</td>\n",
       "      <td>31</td>\n",
       "      <td>MALE</td>\n",
       "    </tr>\n",
       "    <tr>\n",
       "      <th>40643</th>\n",
       "      <td>VIJAYA KUMAR</td>\n",
       "      <td>Mother's</td>\n",
       "      <td>4-142</td>\n",
       "      <td>36</td>\n",
       "      <td>FEMALE</td>\n",
       "    </tr>\n",
       "  </tbody>\n",
       "</table>\n",
       "<p>40644 rows × 5 columns</p>\n",
       "</div>"
      ],
      "text/plain": [
       "                                Name         Relation House Number  Age  \\\n",
       "0                        REVANTH G J    JAYAKUMAR G K            3   19   \n",
       "1                         Mitravinda   Sathyanarayana          118   31   \n",
       "2                          KP SWETHA      K S PRAKASH    3-123-2 ;   20   \n",
       "3                       POOJASRI R C  CHANDRASEKHAR R        3-130   20   \n",
       "4                         NIHARIKA V   SREENIVASULU V       3-209B   25   \n",
       "...                              ...              ...          ...  ...   \n",
       "40639                    P PRISKILLA   M RAJAMANIKYAM       4-14/1   27   \n",
       "40640        PREETHIMA Name : AMUDHA      LATE PHILIP         4-47   25   \n",
       "40641  PALANIM Name : RANJAN! LATHIF     MURUGESHAN M         4-49   57   \n",
       "40642                       KARTHIKA           LATHIF         4-54   31   \n",
       "40643                   VIJAYA KUMAR         Mother's        4-142   36   \n",
       "\n",
       "       Gender  \n",
       "0        MALE  \n",
       "1      FEMALE  \n",
       "2      FEMALE  \n",
       "3      FEMALE  \n",
       "4      FEMALE  \n",
       "...       ...  \n",
       "40639  FEMALE  \n",
       "40640  FEMALE  \n",
       "40641  FEMALE  \n",
       "40642    MALE  \n",
       "40643  FEMALE  \n",
       "\n",
       "[40644 rows x 5 columns]"
      ]
     },
     "execution_count": 15,
     "metadata": {},
     "output_type": "execute_result"
    }
   ],
   "source": [
    "pd.read_csv(\"FINAL4.csv\")"
   ]
  },
  {
   "cell_type": "code",
   "execution_count": null,
   "id": "74a17f37",
   "metadata": {},
   "outputs": [],
   "source": []
  }
 ],
 "metadata": {
  "kernelspec": {
   "display_name": "Python 3 (ipykernel)",
   "language": "python",
   "name": "python3"
  },
  "language_info": {
   "codemirror_mode": {
    "name": "ipython",
    "version": 3
   },
   "file_extension": ".py",
   "mimetype": "text/x-python",
   "name": "python",
   "nbconvert_exporter": "python",
   "pygments_lexer": "ipython3",
   "version": "3.10.4"
  }
 },
 "nbformat": 4,
 "nbformat_minor": 5
}
