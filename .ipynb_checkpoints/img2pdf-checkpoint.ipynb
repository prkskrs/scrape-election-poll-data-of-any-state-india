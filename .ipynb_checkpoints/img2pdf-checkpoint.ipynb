{
 "cells": [
  {
   "cell_type": "code",
   "execution_count": 2,
   "id": "71af6f17",
   "metadata": {},
   "outputs": [],
   "source": [
    "# import module\n",
    "from pdf2image import convert_from_path"
   ]
  },
  {
   "cell_type": "code",
   "execution_count": 5,
   "id": "33ea0f67",
   "metadata": {},
   "outputs": [
    {
     "name": "stdout",
     "output_type": "stream",
     "text": [
      "pdf0 has converted into image successfully\n",
      "pdf1 has converted into image successfully\n"
     ]
    }
   ],
   "source": [
    "cnt=0\n",
    "for j in range(0,15):\n",
    "    images = convert_from_path(f'Popuppage{j}.pdf')\n",
    "    for i in range(2,len(images)-1):\n",
    "        images[i].save('page'+ str(cnt) +'.jpg', 'JPEG')\n",
    "        cnt+=1\n",
    "    print(f\"pdf{j} has converted into image successfully\")"
   ]
  },
  {
   "cell_type": "code",
   "execution_count": null,
   "id": "107ff29a",
   "metadata": {},
   "outputs": [],
   "source": []
  }
 ],
 "metadata": {
  "kernelspec": {
   "display_name": "Python 3 (ipykernel)",
   "language": "python",
   "name": "python3"
  },
  "language_info": {
   "codemirror_mode": {
    "name": "ipython",
    "version": 3
   },
   "file_extension": ".py",
   "mimetype": "text/x-python",
   "name": "python",
   "nbconvert_exporter": "python",
   "pygments_lexer": "ipython3",
   "version": "3.10.4"
  }
 },
 "nbformat": 4,
 "nbformat_minor": 5
}
