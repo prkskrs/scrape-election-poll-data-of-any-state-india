{
 "cells": [
  {
   "cell_type": "code",
   "execution_count": 54,
   "id": "3bc08c27",
   "metadata": {},
   "outputs": [],
   "source": [
    "import pytesseract\n",
    "import PIL.Image\n",
    "import cv2\n",
    "from bs4 import BeautifulSoup\n",
    "import pandas as pd"
   ]
  },
  {
   "cell_type": "code",
   "execution_count": 80,
   "id": "daea6e38",
   "metadata": {},
   "outputs": [],
   "source": [
    "myconfig=r\"--psm 6 --oem 3\"\n"
   ]
  },
  {
   "cell_type": "code",
   "execution_count": 81,
   "id": "488b9ba2",
   "metadata": {},
   "outputs": [],
   "source": [
    "text=pytesseract.image_to_alto_xml(PIL.Image.open(\"pdf/page9.jpg\"),config=myconfig)\n",
    "# text\n",
    "# ,output_type=pytesseract.Output.DICT"
   ]
  },
  {
   "cell_type": "code",
   "execution_count": 82,
   "id": "995a563c",
   "metadata": {},
   "outputs": [
    {
     "name": "stderr",
     "output_type": "stream",
     "text": [
      "/Library/Frameworks/Python.framework/Versions/3.10/lib/python3.10/site-packages/bs4/builder/__init__.py:545: XMLParsedAsHTMLWarning: It looks like you're parsing an XML document using an HTML parser. If this really is an HTML document (maybe it's XHTML?), you can ignore or filter this warning. If it's XML, you should know that using an XML parser will be more reliable. To parse this document as XML, make sure you have the lxml package installed, and pass the keyword argument `features=\"xml\"` into the BeautifulSoup constructor.\n",
      "  warnings.warn(\n"
     ]
    }
   ],
   "source": [
    "soup = BeautifulSoup(text, \"html.parser\")"
   ]
  },
  {
   "cell_type": "code",
   "execution_count": 83,
   "id": "6e9d82f4",
   "metadata": {},
   "outputs": [],
   "source": [
    "a=soup.findAll(\"string\")\n",
    "# a\n",
    "# t[15]"
   ]
  },
  {
   "cell_type": "code",
   "execution_count": 84,
   "id": "be6e57b4",
   "metadata": {},
   "outputs": [
    {
     "data": {
      "text/plain": [
       "['S PERUMAL',\n",
       " 'N SIVA',\n",
       " ' S GOWRI',\n",
       " 'CRUKHMINI',\n",
       " ' p ganesh',\n",
       " 'E NAGARAJ',\n",
       " ' Name : k bharathi',\n",
       " 'PRATHIMA',\n",
       " ' Name : R KOMATHI',\n",
       " 'C KALIYAMMA',\n",
       " ' GANDHIYAMMA',\n",
       " 'S DELLI KUMAR',\n",
       " ' BGANGAMMA',\n",
       " 'KOKILA',\n",
       " ' BBABU',\n",
       " 'BMANJULA',\n",
       " ' DEEPAN',\n",
       " 'BMUTHAIAH',\n",
       " ' BHANU',\n",
       " 'RAJESHWARI']"
      ]
     },
     "execution_count": 84,
     "metadata": {},
     "output_type": "execute_result"
    }
   ],
   "source": [
    "t=soup.findAll(\"textline\")\n",
    "names=[]\n",
    "cnt=0\n",
    "flag=0\n",
    "for i in range(3,len(t),6):\n",
    "    string=t[i].findAll(\"string\")\n",
    "    x=\"\"\n",
    "    for j in range(0,len(string)):\n",
    "        \n",
    "        if(string[j][\"content\"]!=\"Name:\" and cnt==0):\n",
    "            x=string[j][\"content\"]\n",
    "            cnt+=1\n",
    "        elif(string[j][\"content\"]!=\"Name:\" and cnt>=1):\n",
    "            x =' '.join([x, string[j][\"content\"]]) \n",
    "            cnt+=1\n",
    "        if(string[j][\"content\"]==\"Name:\"):\n",
    "            if(x==\"\"):\n",
    "                continue\n",
    "            if(cnt>1):\n",
    "                names.append(x)\n",
    "                cnt=0\n",
    "            else:\n",
    "                names.append(x)\n",
    "                cnt=0\n",
    "len(names)\n",
    "names"
   ]
  },
  {
   "cell_type": "code",
   "execution_count": 85,
   "id": "99d23153",
   "metadata": {},
   "outputs": [
    {
     "data": {
      "text/plain": [
       "['S SUBRAMANYAM',\n",
       " 'N NATESHAN',\n",
       " ' N SRINIVASHAN',\n",
       " 'CPANDU MODALI',\n",
       " ' PERUMAL',\n",
       " 'ISUBHRAMANYAM',\n",
       " ' KRISHNAIAH',\n",
       " 'DORAI',\n",
       " ' - RPAYANI',\n",
       " 'CBHOOPAL',\n",
       " ' SUBRAMANYAM',\n",
       " 'B SUBRAMANYAM.',\n",
       " ' BMUTHAIAH',\n",
       " 'PARADESHI',\n",
       " ' BETHIRAJULU',\n",
       " 'BBAABU',\n",
       " ' GOVINDA SWAMY N',\n",
       " 'BMUNEIAH',\n",
       " ' PARADESHI',\n",
       " 'VENKATESULU']"
      ]
     },
     "execution_count": 85,
     "metadata": {},
     "output_type": "execute_result"
    }
   ],
   "source": [
    "guardian=[]\n",
    "cnt=0\n",
    "flag=0\n",
    "for i in range(4,len(t),6):\n",
    "    string=t[i].findAll(\"string\")\n",
    "    x=\"\"\n",
    "    for j in range(0,len(string)):\n",
    "        \n",
    "        if(string[j][\"content\"]!=\"Father's\" and string[j][\"content\"]!=\"Husband's\"  and string[j][\"content\"]!=\"Name\" and string[j][\"content\"]!=\":\" and string[j][\"content\"]!=\"Name:\" and cnt==0):\n",
    "            x=string[j][\"content\"]\n",
    "            cnt+=1\n",
    "        elif(string[j][\"content\"]!=\"Father's\" and string[j][\"content\"]!=\"Husband's\"  and string[j][\"content\"]!=\"Name\" and string[j][\"content\"]!=\":\" and string[j][\"content\"]!=\"Name:\"  and cnt>=1):\n",
    "            x =' '.join([x, string[j][\"content\"]]) \n",
    "            cnt+=1\n",
    "        if(string[j][\"content\"]==\"Father's\" or string[j][\"content\"]==\"Husband's\"  or string[j][\"content\"]==\"Name\" or string[j][\"content\"]==\":\" or string[j][\"content\"]==\"Name:\" ):\n",
    "            if(x==\"\"):\n",
    "                continue\n",
    "            elif(cnt>1):\n",
    "                guardian.append(x)\n",
    "                cnt=0\n",
    "            else:\n",
    "                guardian.append(x)\n",
    "                cnt=0\n",
    "len(guardian)\n",
    "guardian=list(dict.fromkeys(guardian))\n",
    "guardian"
   ]
  },
  {
   "cell_type": "code",
   "execution_count": 86,
   "id": "710d4f33",
   "metadata": {},
   "outputs": [
    {
     "data": {
      "text/plain": [
       "['31-369',\n",
       " '31-370',\n",
       " ' 31-371',\n",
       " '31-371',\n",
       " ' 31-372',\n",
       " '31-373',\n",
       " ' 31-374',\n",
       " '31-376',\n",
       " ' = 31-377',\n",
       " '31-378',\n",
       " ' 31-379',\n",
       " '31-379',\n",
       " ' 31-380',\n",
       " '31-380',\n",
       " ' 31-381',\n",
       " '31-381',\n",
       " ' 31-382',\n",
       " '31-382',\n",
       " ' 31-384',\n",
       " '31-386']"
      ]
     },
     "execution_count": 86,
     "metadata": {},
     "output_type": "execute_result"
    }
   ],
   "source": [
    "house_number=[]\n",
    "cnt=0\n",
    "flag=0\n",
    "for i in range(5,len(t),6):\n",
    "    string=t[i].findAll(\"string\")\n",
    "    x=\"\"\n",
    "    for j in range(0,len(string)):\n",
    "        \n",
    "        if(string[j][\"content\"]!=\"House\" and string[j][\"content\"]!=\"Number:\"  and string[j][\"content\"]!=\"Number\" and string[j][\"content\"]!=\"-\" and string[j][\"content\"]!=\":\" and cnt==0):\n",
    "            x=string[j][\"content\"]\n",
    "            cnt+=1\n",
    "        elif(string[j][\"content\"]!=\"House\" and string[j][\"content\"]!=\"Number:\"  and string[j][\"content\"]!=\"Number\" and string[j][\"content\"]!=\"-\" and string[j][\"content\"]!=\":\" and cnt>=1):\n",
    "            x =' '.join([x, string[j][\"content\"]]) \n",
    "            cnt+=1\n",
    "        if(string[j][\"content\"]==\"House\" or string[j][\"content\"]==\"Number:\"  or string[j][\"content\"]==\"Number\" or string[j][\"content\"]==\"-\" or string[j][\"content\"]==\":\" ):\n",
    "            if(x==\"\"):\n",
    "                continue\n",
    "            elif(cnt>1):\n",
    "                house_number.append(x)\n",
    "                cnt=0\n",
    "            else:\n",
    "                house_number.append(x)\n",
    "                cnt=0\n",
    "len(house_number)\n",
    "house_number=list(dict.fromkeys(house_number))\n",
    "house_number"
   ]
  },
  {
   "cell_type": "code",
   "execution_count": 88,
   "id": "06b2a4ad",
   "metadata": {},
   "outputs": [
    {
     "data": {
      "text/plain": [
       "['41',\n",
       " '48',\n",
       " '38',\n",
       " '70',\n",
       " '55',\n",
       " '54',\n",
       " '37',\n",
       " '33',\n",
       " '50',\n",
       " '57',\n",
       " '58',\n",
       " '32',\n",
       " '71',\n",
       " '41',\n",
       " '49',\n",
       " '47',\n",
       " '36',\n",
       " '74',\n",
       " '44',\n",
       " '55']"
      ]
     },
     "execution_count": 88,
     "metadata": {},
     "output_type": "execute_result"
    }
   ],
   "source": [
    "age_list=[]\n",
    "cnt=0\n",
    "flag=0\n",
    "for i in range(6,len(t),6):\n",
    "    string=t[i].findAll(\"string\")\n",
    "    x=\"\"\n",
    "    for j in range(0,len(string)):\n",
    "        if(string[j][\"content\"].isnumeric()):\n",
    "            age_list.append(string[j][\"content\"])\n",
    "len(age_list)\n",
    "age_list=[value for key,value in enumerate(age_list,1) if key%3!=0 ]\n",
    "age_list"
   ]
  },
  {
   "cell_type": "code",
   "execution_count": 74,
   "id": "9a47ac73",
   "metadata": {},
   "outputs": [
    {
     "data": {
      "text/plain": [
       "['MALE',\n",
       " 'MALE',\n",
       " 'FEMALE',\n",
       " 'FEMALE',\n",
       " 'MALE',\n",
       " 'MALE',\n",
       " 'FEMALE',\n",
       " 'FEMALE',\n",
       " 'FEMALE',\n",
       " 'FEMALE',\n",
       " 'FEMALE',\n",
       " 'MALE',\n",
       " 'FEMALE',\n",
       " 'FEMALE',\n",
       " 'MALE',\n",
       " 'FEMALE',\n",
       " 'FEMALE',\n",
       " 'MALE',\n",
       " 'FEMALE',\n",
       " 'FEMALE']"
      ]
     },
     "execution_count": 74,
     "metadata": {},
     "output_type": "execute_result"
    }
   ],
   "source": [
    "gender=[]\n",
    "cnt=0\n",
    "flag=0\n",
    "for i in range(6,len(t),6):\n",
    "    string=t[i].findAll(\"string\")\n",
    "    x=\"\"\n",
    "    for j in range(0,len(string)):\n",
    "        if(string[j][\"content\"]==\"MALE\" or string[j][\"content\"]==\"FEMALE\"):\n",
    "            gender.append(string[j][\"content\"])\n",
    "len(gender)\n",
    "gender=[value for key,value in enumerate(gender,1) if key%3!=0 ]\n",
    "gender"
   ]
  },
  {
   "cell_type": "code",
   "execution_count": 75,
   "id": "a6cc77f8",
   "metadata": {},
   "outputs": [
    {
     "data": {
      "text/plain": [
       "<textline height=\"23\" hpos=\"76\" id=\"line_6\" vpos=\"214\" width=\"1459\">\n",
       "<string content=\"Age:\" height=\"19\" hpos=\"76\" id=\"string_60\" vpos=\"218\" wc=\"0.91\" width=\"42\"></string><sp hpos=\"118\" vpos=\"218\" width=\"13\"></sp>\n",
       "<string content=\"41\" height=\"15\" hpos=\"131\" id=\"string_61\" vpos=\"218\" wc=\"0.96\" width=\"17\"></string><sp hpos=\"148\" vpos=\"218\" width=\"15\"></sp>\n",
       "<string content=\"Gender:\" height=\"15\" hpos=\"163\" id=\"string_62\" vpos=\"218\" wc=\"0.96\" width=\"72\"></string><sp hpos=\"235\" vpos=\"218\" width=\"13\"></sp>\n",
       "<string content=\"MALE\" height=\"15\" hpos=\"248\" id=\"string_63\" vpos=\"218\" wc=\"0.96\" width=\"49\"></string><sp hpos=\"297\" vpos=\"218\" width=\"165\"></sp>\n",
       "<string content=\"Photo\" height=\"15\" hpos=\"462\" id=\"string_64\" vpos=\"214\" wc=\"0.95\" width=\"49\"></string><sp hpos=\"511\" vpos=\"214\" width=\"7\"></sp>\n",
       "<string content=\"is\" height=\"11\" hpos=\"518\" id=\"string_65\" vpos=\"218\" wc=\"0.96\" width=\"13\"></string><sp hpos=\"531\" vpos=\"218\" width=\"47\"></sp>\n",
       "<string content=\"Age:\" height=\"19\" hpos=\"578\" id=\"string_66\" vpos=\"218\" wc=\"0.84\" width=\"42\"></string><sp hpos=\"620\" vpos=\"218\" width=\"13\"></sp>\n",
       "<string content=\"48\" height=\"15\" hpos=\"633\" id=\"string_67\" vpos=\"218\" wc=\"0.96\" width=\"20\"></string><sp hpos=\"653\" vpos=\"218\" width=\"12\"></sp>\n",
       "<string content=\"Gender:\" height=\"15\" hpos=\"665\" id=\"string_68\" vpos=\"218\" wc=\"0.93\" width=\"72\"></string><sp hpos=\"737\" vpos=\"218\" width=\"14\"></sp>\n",
       "<string content=\"MALE\" height=\"15\" hpos=\"751\" id=\"string_69\" vpos=\"218\" wc=\"0.96\" width=\"48\"></string><sp hpos=\"799\" vpos=\"218\" width=\"165\"></sp>\n",
       "<string content=\"Photo\" height=\"15\" hpos=\"964\" id=\"string_70\" vpos=\"214\" wc=\"0.96\" width=\"49\"></string><sp hpos=\"1013\" vpos=\"214\" width=\"7\"></sp>\n",
       "<string content=\"is\" height=\"15\" hpos=\"1020\" id=\"string_71\" vpos=\"214\" wc=\"0.96\" width=\"13\"></string><sp hpos=\"1033\" vpos=\"214\" width=\"47\"></sp>\n",
       "<string content=\"Age\" height=\"19\" hpos=\"1080\" id=\"string_72\" vpos=\"218\" wc=\"0.87\" width=\"42\"></string><sp hpos=\"1122\" vpos=\"218\" width=\"-3\"></sp>\n",
       "<string content=\":\" height=\"31\" hpos=\"1119\" id=\"string_73\" vpos=\"210\" wc=\"0.46\" width=\"9\"></string><sp hpos=\"1128\" vpos=\"210\" width=\"8\"></sp>\n",
       "<string content=\"56\" height=\"15\" hpos=\"1136\" id=\"string_74\" vpos=\"218\" wc=\"0.95\" width=\"19\"></string><sp hpos=\"1155\" vpos=\"218\" width=\"13\"></sp>\n",
       "<string content=\"Gender:\" height=\"15\" hpos=\"1168\" id=\"string_75\" vpos=\"218\" wc=\"0.87\" width=\"72\"></string><sp hpos=\"1240\" vpos=\"218\" width=\"13\"></sp>\n",
       "<string content=\"FEMALE\" height=\"15\" hpos=\"1253\" id=\"string_76\" vpos=\"218\" wc=\"0.96\" width=\"74\"></string><sp hpos=\"1327\" vpos=\"218\" width=\"139\"></sp>\n",
       "<string content=\"Photo\" height=\"15\" hpos=\"1466\" id=\"string_77\" vpos=\"214\" wc=\"0.96\" width=\"49\"></string><sp hpos=\"1515\" vpos=\"214\" width=\"7\"></sp>\n",
       "<string content=\"is\" height=\"15\" hpos=\"1522\" id=\"string_78\" vpos=\"214\" wc=\"0.96\" width=\"13\"></string>\n",
       "</textline>"
      ]
     },
     "execution_count": 75,
     "metadata": {},
     "output_type": "execute_result"
    }
   ],
   "source": [
    "t[6]"
   ]
  },
  {
   "cell_type": "code",
   "execution_count": 76,
   "id": "a4bdeb81",
   "metadata": {},
   "outputs": [
    {
     "data": {
      "text/plain": [
       "[]"
      ]
     },
     "execution_count": 76,
     "metadata": {},
     "output_type": "execute_result"
    }
   ],
   "source": [
    "[value for key,value in enumerate(x,1) if key%3!=0 ]"
   ]
  },
  {
   "cell_type": "code",
   "execution_count": 77,
   "id": "093d9bb6",
   "metadata": {},
   "outputs": [
    {
     "data": {
      "text/html": [
       "<div>\n",
       "<style scoped>\n",
       "    .dataframe tbody tr th:only-of-type {\n",
       "        vertical-align: middle;\n",
       "    }\n",
       "\n",
       "    .dataframe tbody tr th {\n",
       "        vertical-align: top;\n",
       "    }\n",
       "\n",
       "    .dataframe thead th {\n",
       "        text-align: right;\n",
       "    }\n",
       "</style>\n",
       "<table border=\"1\" class=\"dataframe\">\n",
       "  <thead>\n",
       "    <tr style=\"text-align: right;\">\n",
       "      <th></th>\n",
       "      <th>Name</th>\n",
       "      <th>Relation</th>\n",
       "      <th>House Number</th>\n",
       "      <th>Age</th>\n",
       "      <th>Gender</th>\n",
       "    </tr>\n",
       "  </thead>\n",
       "  <tbody>\n",
       "    <tr>\n",
       "      <th>0</th>\n",
       "      <td>S PERUMAL</td>\n",
       "      <td>S SUBRAMANYAM</td>\n",
       "      <td>31-369</td>\n",
       "      <td>41</td>\n",
       "      <td>MALE</td>\n",
       "    </tr>\n",
       "    <tr>\n",
       "      <th>1</th>\n",
       "      <td>N SIVA</td>\n",
       "      <td>N NATESHAN</td>\n",
       "      <td>31-370</td>\n",
       "      <td>48</td>\n",
       "      <td>MALE</td>\n",
       "    </tr>\n",
       "    <tr>\n",
       "      <th>2</th>\n",
       "      <td>S GOWRI</td>\n",
       "      <td>N SRINIVASHAN</td>\n",
       "      <td>31-371</td>\n",
       "      <td>38</td>\n",
       "      <td>FEMALE</td>\n",
       "    </tr>\n",
       "    <tr>\n",
       "      <th>3</th>\n",
       "      <td>CRUKHMINI</td>\n",
       "      <td>CPANDU MODALI</td>\n",
       "      <td>31-371</td>\n",
       "      <td>70</td>\n",
       "      <td>FEMALE</td>\n",
       "    </tr>\n",
       "    <tr>\n",
       "      <th>4</th>\n",
       "      <td>p ganesh</td>\n",
       "      <td>PERUMAL</td>\n",
       "      <td>31-372</td>\n",
       "      <td>55</td>\n",
       "      <td>MALE</td>\n",
       "    </tr>\n",
       "    <tr>\n",
       "      <th>5</th>\n",
       "      <td>E NAGARAJ</td>\n",
       "      <td>ISUBHRAMANYAM</td>\n",
       "      <td>31-373</td>\n",
       "      <td>54</td>\n",
       "      <td>MALE</td>\n",
       "    </tr>\n",
       "    <tr>\n",
       "      <th>6</th>\n",
       "      <td>Name : k bharathi</td>\n",
       "      <td>KRISHNAIAH</td>\n",
       "      <td>31-374</td>\n",
       "      <td>37</td>\n",
       "      <td>FEMALE</td>\n",
       "    </tr>\n",
       "    <tr>\n",
       "      <th>7</th>\n",
       "      <td>PRATHIMA</td>\n",
       "      <td>DORAI</td>\n",
       "      <td>31-376</td>\n",
       "      <td>33</td>\n",
       "      <td>FEMALE</td>\n",
       "    </tr>\n",
       "    <tr>\n",
       "      <th>8</th>\n",
       "      <td>Name : R KOMATHI</td>\n",
       "      <td>- RPAYANI</td>\n",
       "      <td>= 31-377</td>\n",
       "      <td>50</td>\n",
       "      <td>FEMALE</td>\n",
       "    </tr>\n",
       "    <tr>\n",
       "      <th>9</th>\n",
       "      <td>C KALIYAMMA</td>\n",
       "      <td>CBHOOPAL</td>\n",
       "      <td>31-378</td>\n",
       "      <td>57</td>\n",
       "      <td>FEMALE</td>\n",
       "    </tr>\n",
       "    <tr>\n",
       "      <th>10</th>\n",
       "      <td>GANDHIYAMMA</td>\n",
       "      <td>SUBRAMANYAM</td>\n",
       "      <td>31-379</td>\n",
       "      <td>58</td>\n",
       "      <td>FEMALE</td>\n",
       "    </tr>\n",
       "    <tr>\n",
       "      <th>11</th>\n",
       "      <td>S DELLI KUMAR</td>\n",
       "      <td>B SUBRAMANYAM.</td>\n",
       "      <td>31-379</td>\n",
       "      <td>32</td>\n",
       "      <td>MALE</td>\n",
       "    </tr>\n",
       "    <tr>\n",
       "      <th>12</th>\n",
       "      <td>BGANGAMMA</td>\n",
       "      <td>BMUTHAIAH</td>\n",
       "      <td>31-380</td>\n",
       "      <td>71</td>\n",
       "      <td>FEMALE</td>\n",
       "    </tr>\n",
       "    <tr>\n",
       "      <th>13</th>\n",
       "      <td>KOKILA</td>\n",
       "      <td>PARADESHI</td>\n",
       "      <td>31-380</td>\n",
       "      <td>41</td>\n",
       "      <td>FEMALE</td>\n",
       "    </tr>\n",
       "    <tr>\n",
       "      <th>14</th>\n",
       "      <td>BBABU</td>\n",
       "      <td>BETHIRAJULU</td>\n",
       "      <td>31-381</td>\n",
       "      <td>49</td>\n",
       "      <td>MALE</td>\n",
       "    </tr>\n",
       "    <tr>\n",
       "      <th>15</th>\n",
       "      <td>BMANJULA</td>\n",
       "      <td>BBAABU</td>\n",
       "      <td>31-381</td>\n",
       "      <td>47</td>\n",
       "      <td>FEMALE</td>\n",
       "    </tr>\n",
       "    <tr>\n",
       "      <th>16</th>\n",
       "      <td>DEEPAN</td>\n",
       "      <td>GOVINDA SWAMY N</td>\n",
       "      <td>31-382</td>\n",
       "      <td>36</td>\n",
       "      <td>FEMALE</td>\n",
       "    </tr>\n",
       "    <tr>\n",
       "      <th>17</th>\n",
       "      <td>BMUTHAIAH</td>\n",
       "      <td>BMUNEIAH</td>\n",
       "      <td>31-382</td>\n",
       "      <td>74</td>\n",
       "      <td>MALE</td>\n",
       "    </tr>\n",
       "    <tr>\n",
       "      <th>18</th>\n",
       "      <td>BHANU</td>\n",
       "      <td>PARADESHI</td>\n",
       "      <td>31-384</td>\n",
       "      <td>44</td>\n",
       "      <td>FEMALE</td>\n",
       "    </tr>\n",
       "    <tr>\n",
       "      <th>19</th>\n",
       "      <td>RAJESHWARI</td>\n",
       "      <td>VENKATESULU</td>\n",
       "      <td>31-386</td>\n",
       "      <td>55</td>\n",
       "      <td>FEMALE</td>\n",
       "    </tr>\n",
       "  </tbody>\n",
       "</table>\n",
       "</div>"
      ],
      "text/plain": [
       "                  Name          Relation House Number Age  Gender\n",
       "0            S PERUMAL     S SUBRAMANYAM       31-369  41    MALE\n",
       "1               N SIVA        N NATESHAN       31-370  48    MALE\n",
       "2              S GOWRI     N SRINIVASHAN       31-371  38  FEMALE\n",
       "3            CRUKHMINI     CPANDU MODALI       31-371  70  FEMALE\n",
       "4             p ganesh           PERUMAL       31-372  55    MALE\n",
       "5            E NAGARAJ     ISUBHRAMANYAM       31-373  54    MALE\n",
       "6    Name : k bharathi        KRISHNAIAH       31-374  37  FEMALE\n",
       "7             PRATHIMA             DORAI       31-376  33  FEMALE\n",
       "8     Name : R KOMATHI         - RPAYANI     = 31-377  50  FEMALE\n",
       "9          C KALIYAMMA          CBHOOPAL       31-378  57  FEMALE\n",
       "10         GANDHIYAMMA       SUBRAMANYAM       31-379  58  FEMALE\n",
       "11       S DELLI KUMAR    B SUBRAMANYAM.       31-379  32    MALE\n",
       "12           BGANGAMMA         BMUTHAIAH       31-380  71  FEMALE\n",
       "13              KOKILA         PARADESHI       31-380  41  FEMALE\n",
       "14               BBABU       BETHIRAJULU       31-381  49    MALE\n",
       "15            BMANJULA            BBAABU       31-381  47  FEMALE\n",
       "16              DEEPAN   GOVINDA SWAMY N       31-382  36  FEMALE\n",
       "17           BMUTHAIAH          BMUNEIAH       31-382  74    MALE\n",
       "18               BHANU         PARADESHI       31-384  44  FEMALE\n",
       "19          RAJESHWARI       VENKATESULU       31-386  55  FEMALE"
      ]
     },
     "execution_count": 77,
     "metadata": {},
     "output_type": "execute_result"
    }
   ],
   "source": [
    "s1=pd.Series(names,name='Name')\n",
    "s2=pd.Series(guardian,name='Relation')\n",
    "s3=pd.Series(house_number ,name='House Number')\n",
    "s4=pd.Series(age_list ,name='Age')\n",
    "s5=pd.Series(gender ,name='Gender')\n",
    "data = pd.concat([s1,s2,s3,s4,s5], axis=1)\n",
    "data"
   ]
  },
  {
   "cell_type": "code",
   "execution_count": 79,
   "id": "94451882",
   "metadata": {},
   "outputs": [],
   "source": [
    "data.to_csv(\"sample.csv\",index=False)"
   ]
  },
  {
   "cell_type": "code",
   "execution_count": null,
   "id": "f51341f2",
   "metadata": {},
   "outputs": [],
   "source": []
  },
  {
   "cell_type": "code",
   "execution_count": null,
   "id": "16c762b7",
   "metadata": {},
   "outputs": [],
   "source": []
  }
 ],
 "metadata": {
  "kernelspec": {
   "display_name": "Python 3 (ipykernel)",
   "language": "python",
   "name": "python3"
  },
  "language_info": {
   "codemirror_mode": {
    "name": "ipython",
    "version": 3
   },
   "file_extension": ".py",
   "mimetype": "text/x-python",
   "name": "python",
   "nbconvert_exporter": "python",
   "pygments_lexer": "ipython3",
   "version": "3.10.4"
  }
 },
 "nbformat": 4,
 "nbformat_minor": 5
}
